{
 "cells": [
  {
   "cell_type": "code",
   "execution_count": 2,
   "metadata": {
    "tags": []
   },
   "outputs": [
    {
     "name": "stdout",
     "output_type": "stream",
     "text": [
      "Currently evaluating -------------------------------:\n",
      "Friday, 04. October 2024 01:54PM\n",
      "CPUs: 14, GPUs: 1 on LAPTOP-HS456NH3.\n",
      "GPU : NVIDIA GeForce RTX 2050\n",
      "Files already downloaded and verified\n",
      "Files already downloaded and verified\n",
      "2.0.1+cu118 0.15.2+cu118\n",
      "Running on cuda\n"
     ]
    }
   ],
   "source": [
    "%matplotlib inline\n",
    "\n",
    "import numpy as np\n",
    "from pprint import pprint\n",
    "\n",
    "from PIL import Image\n",
    "import matplotlib.pyplot as plt\n",
    "\n",
    "import torch\n",
    "import torch.nn as nn\n",
    "import torch.nn.functional as F\n",
    "from torch.autograd import grad\n",
    "from torch.utils.data import DataLoader, Subset\n",
    "import torch.optim as optim\n",
    "import torchvision\n",
    "from torchvision import models, datasets, transforms\n",
    "import random\n",
    "from tqdm import tqdm\n",
    "import torch\n",
    "from torch.autograd.functional import jvp\n",
    "from defense import *\n",
    "torch.manual_seed(50)\n",
    "\n",
    "batch_size = 2\n",
    "idx = 30\n",
    "\n",
    "import inversefed\n",
    "setup = inversefed.utils.system_startup()\n",
    "defs = inversefed.training_strategy('conservative')\n",
    "\n",
    "loss_fn, trainloader, validloader =  inversefed.construct_dataloaders('CIFAR10', defs)\n",
    "\n",
    "\n",
    "\n",
    "print(torch.__version__, torchvision.__version__)\n",
    "\n",
    "dst = validloader.dataset\n",
    "\n",
    "\n",
    "train_indices = list(range(idx, idx + batch_size))\n",
    "train_subset = Subset(dst, train_indices)\n",
    "train_loader = DataLoader(train_subset, batch_size=batch_size, shuffle=False)\n",
    "\n",
    "test_indices = list(range(len(dst)))\n",
    "test_subset = Subset(dst, test_indices)\n",
    "test_loader = DataLoader(test_subset, batch_size=batch_size, shuffle=False)\n",
    "\n",
    "device = \"cpu\"\n",
    "if torch.cuda.is_available():\n",
    "    device = \"cuda\"\n",
    "print(\"Running on %s\" % device)\n",
    "\n"
   ]
  },
  {
   "cell_type": "code",
   "execution_count": 3,
   "metadata": {
    "tags": []
   },
   "outputs": [
    {
     "name": "stdout",
     "output_type": "stream",
     "text": [
      "Model initialized with random key 0.\n",
      "Num of Parameters Total\n",
      "2904970\n"
     ]
    }
   ],
   "source": [
    "import inversefed\n",
    "arch = 'ConvNet32'\n",
    "\n",
    "net, _ = inversefed.construct_model(arch, num_classes=10, num_channels=3,seed=0)\n",
    "\n",
    "print('Num of Parameters Total')\n",
    "print(sum(p.numel() for p in net.parameters() if p.requires_grad))"
   ]
  },
  {
   "cell_type": "code",
   "execution_count": null,
   "metadata": {
    "tags": []
   },
   "outputs": [
    {
     "ename": "",
     "evalue": "",
     "output_type": "error",
     "traceback": [
      "\u001b[1;31m在当前单元格或上一个单元格中执行代码时 Kernel 崩溃。\n",
      "\u001b[1;31m请查看单元格中的代码，以确定故障的可能原因。\n",
      "\u001b[1;31m单击<a href='https://aka.ms/vscodeJupyterKernelCrash'>此处</a>了解详细信息。\n",
      "\u001b[1;31m有关更多详细信息，请查看 Jupyter <a href='command:jupyter.viewOutput'>log</a>。"
     ]
    }
   ],
   "source": [
    "batch_size = 8\n",
    "split_batch=4\n",
    "test_loader=train_loader\n",
    "defense_method = lambda x,y,z,w: defense_dpsgd(x,y,z,w,clipping_threshold=0.05)\n",
    "defense_method = defense_prune\n",
    "num_epoch = 10\n",
    "lr = 1e-3\n",
    "\n",
    "for noise_scale in [0.1,0.2,0.3,0.4,0.5,0.6,0.7]:\n",
    "    for num_samples in [10]: #Num samples for random sketching\n",
    "        for defense_type in ['default','ours']:\n",
    "            train_indices = list(range(1,9))\n",
    "            train_subset = Subset(dst, train_indices)\n",
    "            train_loader = DataLoader(train_subset, batch_size=batch_size, shuffle=False)\n",
    "\n",
    "            test_indices = list(range(1,9))\n",
    "            test_subset = Subset(dst, test_indices)\n",
    "            test_loader = DataLoader(test_subset, batch_size=batch_size, shuffle=False)\n",
    "            print(f'\\n\\n\\n\\n___^^^___noise_scale:{noise_scale}, defense_method:{defense_type}___^^^___')\n",
    "\n",
    "            torch.manual_seed(0)\n",
    "            net, _ = inversefed.construct_model(arch, num_classes=10, num_channels=3, seed=0)\n",
    "            net.to(device)\n",
    "            loss = []\n",
    "            acc = []\n",
    "            norms = []\n",
    "            defense = True\n",
    "            optimizer = optim.SGD(net.parameters(), lr=lr)\n",
    "            criterion = lambda x,y: loss_fn(x,y)[0]#torch.nn.CrossEntropyLoss()\n",
    "            for _ in range(num_epoch):\n",
    "                print(f'______EPOCH {_+1}_______')\n",
    "                t=tqdm(train_loader)\n",
    "                for gt_data, gt_label in t:\n",
    "                    gt_data, gt_label = gt_data.to(device), gt_label.to(device)\n",
    "                    gt_onehot_label = label_to_onehot(gt_label, num_classes=10)\n",
    "\n",
    "                    optimizer.zero_grad()\n",
    "\n",
    "                    split_size = batch_size // split_batch\n",
    "                    parts_data = torch.split(gt_data, split_size)\n",
    "                    parts_label = torch.split(gt_label, split_size)\n",
    "                    parts_onehot_label = torch.split(gt_onehot_label, split_size)\n",
    "\n",
    "                    accumulated_gradients = None\n",
    "\n",
    "                    for part_data, part_label, part_onehot_label in zip(parts_data, parts_label, parts_onehot_label):\n",
    "                        part_data.requires_grad_(True)\n",
    "                        out = net(part_data)\n",
    "                        y = criterion(out, part_label)\n",
    "                        original_dy_dx = torch.autograd.grad(y, net.parameters(), create_graph=True)\n",
    "                        l2_norms_dy_dx=None\n",
    "\n",
    "                        if defense:\n",
    "                            if defense_type != 'default':\n",
    "                                l2_norms_dy_dx = compute_l2_norm_of_gradients_new(net, part_data, part_onehot_label, criterion, num_samples=num_samples)\n",
    "                            modified_dy_dx = defense_method(original_dy_dx, l2_norms_dy_dx, noise_scale, defense_type)\n",
    "                            # print(sum([torch.sum(i==0) for i in modified_dy_dx])/sum([torch.numel(i) for i in modified_dy_dx]))\n",
    "                        else:\n",
    "                            modified_dy_dx = original_dy_dx\n",
    "\n",
    "                        if accumulated_gradients is None:\n",
    "                            accumulated_gradients = [grad.clone() for grad in modified_dy_dx]\n",
    "                        else:\n",
    "                            for i in range(len(accumulated_gradients)):\n",
    "                                accumulated_gradients[i] += modified_dy_dx[i]\n",
    "\n",
    "                    for i in range(len(accumulated_gradients)):\n",
    "                        accumulated_gradients[i] /= split_batch\n",
    "\n",
    "                    with torch.no_grad():\n",
    "                        for param, grad in zip(net.parameters(), accumulated_gradients):\n",
    "                            param.grad = grad\n",
    "                    optimizer.step()\n",
    "\n",
    "                    loss.append(y.item())\n",
    "                    acc.append((torch.argmax(net(gt_data), dim=1) == gt_label).float().mean().item())\n",
    "                    if defense and defense_type=='ours':\n",
    "                        norms.append([(torch.mean(torch.abs(l2_norms_dy_dx[i] / original_dy_dx[i])) ** 0.5).item() for i in range(len(original_dy_dx))])\n",
    "                    t.set_description(f\"Loss: {loss[-1]}, Acc: {acc[-1]}\")\n",
    "\n",
    "            epoch_test_loss = 0\n",
    "            epoch_test_acc = 0\n",
    "            with torch.no_grad():\n",
    "                for test_data, test_label in test_loader:\n",
    "                    test_data, test_label = test_data.to(device), test_label.to(device)\n",
    "                    test_out = net(test_data)\n",
    "                    test_y = criterion(test_out, test_label)\n",
    "                    epoch_test_loss += test_y.item()\n",
    "                    epoch_test_acc += (torch.argmax(test_out, dim=1) == test_label).float().mean().item()\n",
    "\n",
    "            final_test_loss=epoch_test_loss / len(test_loader)\n",
    "            final_test_acc=epoch_test_acc / len(test_loader)\n",
    "            print(f\"Final Test Loss: {final_test_loss}, Final Test Acc: {final_test_acc}\")\n",
    "\n",
    "            epoch_train_loss = 0\n",
    "            epoch_train_acc = 0\n",
    "            with torch.no_grad():\n",
    "                for test_data, test_label in train_loader:\n",
    "                    test_data, test_label = test_data.to(device), test_label.to(device)\n",
    "                    test_out = net(test_data)\n",
    "                    test_y = criterion(test_out, test_label)\n",
    "                    epoch_train_loss += test_y.item()\n",
    "                    epoch_train_acc += (torch.argmax(test_out, dim=1) == test_label).float().mean().item()\n",
    "\n",
    "            final_train_loss=epoch_train_loss / len(train_loader)\n",
    "            final_train_acc=epoch_train_acc / len(train_loader)\n",
    "            print(f\"Final Train Loss: {final_train_loss}, Final Train Acc: {final_train_acc}\")\n",
    "            \n",
    "            with open('data_train_detail.txt', 'a') as file:\n",
    "                file.write(f\"k: {noise_scale}, Defense type: {defense_type}\\nLoss: {loss}\\nAcc: {acc}\\n\\n\")\n",
    "\n",
    "            with open('data_train.txt', 'a') as file:\n",
    "                file.write(f\"Final train loss: {final_train_loss}, Final test loss: {final_test_loss}, Final train acc: {final_train_acc}, Final test acc: {final_test_acc}, k: {noise_scale}, Defense type: {defense_type}, Num_Samples: {num_samples}\\n\")"
   ]
  },
  {
   "cell_type": "code",
   "execution_count": 9,
   "metadata": {
    "tags": []
   },
   "outputs": [
    {
     "data": {
      "image/png": "[encoded data removed]",
      "text/plain": [
       "<Figure size 640x480 with 1 Axes>"
      ]
     },
     "metadata": {},
     "output_type": "display_data"
    }
   ],
   "source": [
    "plt.figure()\n",
    "sum_range=1\n",
    "toplot=loss\n",
    "plt.plot([np.sum(toplot[max(0, i-sum_range+1):i+1]) for i in range(sum_range,len(toplot))])\n",
    "plt.xscale('log')\n",
    "plt.show()"
   ]
  },
  {
   "cell_type": "code",
   "execution_count": 10,
   "metadata": {
    "tags": []
   },
   "outputs": [
    {
     "data": {
      "image/png": "[encoded data removed]",
      "text/plain": [
       "<Figure size 640x480 with 1 Axes>"
      ]
     },
     "metadata": {},
     "output_type": "display_data"
    }
   ],
   "source": [
    "plt.figure()\n",
    "sum_range=1\n",
    "toplot=acc\n",
    "plt.plot([np.sum(toplot[max(0, i-sum_range+1):i+1])/sum_range for i in range(sum_range,len(toplot))])\n",
    "plt.xscale('log')\n",
    "plt.show()"
   ]
  },
  {
   "cell_type": "code",
   "execution_count": 11,
   "metadata": {
    "tags": []
   },
   "outputs": [
    {
     "data": {
      "image/png": "[encoded data removed]",
      "text/plain": [
       "<Figure size 1000x1000 with 1 Axes>"
      ]
     },
     "metadata": {},
     "output_type": "display_data"
    }
   ],
   "source": [
    "#For Mean Noise Scale of All Parameters\n",
    "plt.figure(figsize=(10,10))\n",
    "sum_range=1\n",
    "\n",
    "for _,pair in enumerate(net.named_parameters()):\n",
    "    if True:\n",
    "        name,param=pair\n",
    "        toplot=[x[_] for x in norms]\n",
    "        plt.plot([np.sum(toplot[max(0, i-sum_range+1):i+1]) for i in range(sum_range,len(toplot))],label=name)\n",
    "plt.legend()\n",
    "plt.show()\n",
    "# for _ in range(len(norms[0])):\n",
    "#     toplot=[x[_] for x in norms]\n",
    "#     plt.plot([np.sum(toplot[max(0, i-sum_range+1):i+1]) for i in range(sum_range,len(toplot))])\n",
    "# plt.show()"
   ]
  },
  {
   "cell_type": "code",
   "execution_count": null,
   "metadata": {
    "tags": []
   },
   "outputs": [],
   "source": [
    "for _ in range(len(norms[0])):\n",
    "    print(sum([x[_] for x in norms]))"
   ]
  },
  {
   "cell_type": "code",
   "execution_count": null,
   "metadata": {
    "tags": []
   },
   "outputs": [
    {
     "data": {
      "text/plain": [
       "[inf,\n",
       " 2.6669578552246094,\n",
       " inf,\n",
       " 2.265286922454834,\n",
       " inf,\n",
       " 2.4916810989379883,\n",
       " inf,\n",
       " 1.6190457344055176,\n",
       " inf,\n",
       " inf]"
      ]
     },
     "execution_count": 10,
     "metadata": {},
     "output_type": "execute_result"
    }
   ],
   "source": [
    "list(norms[0])"
   ]
  },
  {
   "cell_type": "code",
   "execution_count": 20,
   "metadata": {
    "tags": []
   },
   "outputs": [
    {
     "name": "stdout",
     "output_type": "stream",
     "text": [
      "\n",
      "\n",
      "\n",
      "\n",
      "___^^^___noise_scale:0.01, defense_method:ours___^^^___\n",
      "Model initialized with random key 0.\n",
      "______EPOCH 1_______\n"
     ]
    },
    {
     "name": "stderr",
     "output_type": "stream",
     "text": [
      "Loss: 2.8259458541870117, Acc_30: 0.041666666666666664: 100%|██████████| 10/10 [00:04<00:00,  2.35it/s]\n"
     ]
    },
    {
     "name": "stdout",
     "output_type": "stream",
     "text": [
      "______EPOCH 2_______\n"
     ]
    },
    {
     "name": "stderr",
     "output_type": "stream",
     "text": [
      "Loss: 2.7367467880249023, Acc_30: 0.0875: 100%|██████████| 10/10 [00:04<00:00,  2.25it/s]            \n"
     ]
    },
    {
     "name": "stdout",
     "output_type": "stream",
     "text": [
      "______EPOCH 3_______\n"
     ]
    },
    {
     "name": "stderr",
     "output_type": "stream",
     "text": [
      "Loss: 2.6523141860961914, Acc_30: 0.1375: 100%|██████████| 10/10 [00:04<00:00,  2.28it/s]           \n"
     ]
    },
    {
     "name": "stdout",
     "output_type": "stream",
     "text": [
      "______EPOCH 4_______\n"
     ]
    },
    {
     "name": "stderr",
     "output_type": "stream",
     "text": [
      "Loss: 2.5725505352020264, Acc_30: 0.15416666666666667: 100%|██████████| 10/10 [00:04<00:00,  2.35it/s]\n"
     ]
    },
    {
     "name": "stdout",
     "output_type": "stream",
     "text": [
      "______EPOCH 5_______\n"
     ]
    },
    {
     "name": "stderr",
     "output_type": "stream",
     "text": [
      "Loss: 2.4945592880249023, Acc_30: 0.17916666666666667: 100%|██████████| 10/10 [00:04<00:00,  2.27it/s]\n"
     ]
    },
    {
     "name": "stdout",
     "output_type": "stream",
     "text": [
      "______EPOCH 6_______\n"
     ]
    },
    {
     "name": "stderr",
     "output_type": "stream",
     "text": [
      "Loss: 2.42044997215271, Acc_30: 0.2125: 100%|██████████| 10/10 [00:04<00:00,  2.22it/s]              \n"
     ]
    },
    {
     "name": "stdout",
     "output_type": "stream",
     "text": [
      "______EPOCH 7_______\n"
     ]
    },
    {
     "name": "stderr",
     "output_type": "stream",
     "text": [
      "Loss: 2.349820852279663, Acc_30: 0.24166666666666667: 100%|██████████| 10/10 [00:04<00:00,  2.21it/s]\n"
     ]
    },
    {
     "name": "stdout",
     "output_type": "stream",
     "text": [
      "______EPOCH 8_______\n"
     ]
    },
    {
     "name": "stderr",
     "output_type": "stream",
     "text": [
      "Loss: 2.283351182937622, Acc_30: 0.26666666666666666: 100%|██████████| 10/10 [00:04<00:00,  2.35it/s]\n"
     ]
    },
    {
     "name": "stdout",
     "output_type": "stream",
     "text": [
      "______EPOCH 9_______\n"
     ]
    },
    {
     "name": "stderr",
     "output_type": "stream",
     "text": [
      "Loss: 2.220137119293213, Acc_30: 0.2916666666666667: 100%|██████████| 10/10 [00:04<00:00,  2.35it/s] \n"
     ]
    },
    {
     "name": "stdout",
     "output_type": "stream",
     "text": [
      "______EPOCH 10_______\n"
     ]
    },
    {
     "name": "stderr",
     "output_type": "stream",
     "text": [
      "Loss: 2.158660650253296, Acc_30: 0.31666666666666665: 100%|██████████| 10/10 [00:03<00:00,  2.59it/s]\n"
     ]
    },
    {
     "name": "stdout",
     "output_type": "stream",
     "text": [
      "Final Test Loss: 2.0553178071975706, Final Test Acc: 0.3875\n",
      "0.25\n",
      "0.75\n",
      "0.5\n",
      "0.375\n",
      "0.25\n",
      "0.375\n",
      "0.375\n",
      "0.25\n",
      "0.5\n",
      "0.25\n",
      "Final Train Loss: 2.0553178071975706, Final Train Acc: 0.3875\n",
      "\n",
      "\n",
      "\n",
      "\n",
      "___^^^___noise_scale:0.01, defense_method:default___^^^___\n",
      "Model initialized with random key 0.\n",
      "______EPOCH 1_______\n"
     ]
    },
    {
     "name": "stderr",
     "output_type": "stream",
     "text": [
      "Loss: 2.8255221843719482, Acc_30: 0.041666666666666664: 100%|██████████| 10/10 [00:00<00:00, 113.62it/s]\n"
     ]
    },
    {
     "name": "stdout",
     "output_type": "stream",
     "text": [
      "______EPOCH 2_______\n"
     ]
    },
    {
     "name": "stderr",
     "output_type": "stream",
     "text": [
      "Loss: 2.7366199493408203, Acc_30: 0.0875: 100%|██████████| 10/10 [00:00<00:00, 109.87it/s]   \n"
     ]
    },
    {
     "name": "stdout",
     "output_type": "stream",
     "text": [
      "______EPOCH 3_______\n"
     ]
    },
    {
     "name": "stderr",
     "output_type": "stream",
     "text": [
      "Loss: 2.6519432067871094, Acc_30: 0.1375: 100%|██████████| 10/10 [00:00<00:00, 90.24it/s]    \n"
     ]
    },
    {
     "name": "stdout",
     "output_type": "stream",
     "text": [
      "______EPOCH 4_______\n"
     ]
    },
    {
     "name": "stderr",
     "output_type": "stream",
     "text": [
      "Loss: 2.5717594623565674, Acc_30: 0.15416666666666667: 100%|██████████| 10/10 [00:00<00:00, 80.64it/s]\n"
     ]
    },
    {
     "name": "stdout",
     "output_type": "stream",
     "text": [
      "______EPOCH 5_______\n"
     ]
    },
    {
     "name": "stderr",
     "output_type": "stream",
     "text": [
      "Loss: 2.4937663078308105, Acc_30: 0.17916666666666667: 100%|██████████| 10/10 [00:00<00:00, 80.59it/s]\n"
     ]
    },
    {
     "name": "stdout",
     "output_type": "stream",
     "text": [
      "______EPOCH 6_______\n"
     ]
    },
    {
     "name": "stderr",
     "output_type": "stream",
     "text": [
      "Loss: 2.4201297760009766, Acc_30: 0.2125: 100%|██████████| 10/10 [00:00<00:00, 76.19it/s]            \n"
     ]
    },
    {
     "name": "stdout",
     "output_type": "stream",
     "text": [
      "______EPOCH 7_______\n"
     ]
    },
    {
     "name": "stderr",
     "output_type": "stream",
     "text": [
      "Loss: 2.349940538406372, Acc_30: 0.24583333333333332: 100%|██████████| 10/10 [00:00<00:00, 69.73it/s]\n"
     ]
    },
    {
     "name": "stdout",
     "output_type": "stream",
     "text": [
      "______EPOCH 8_______\n"
     ]
    },
    {
     "name": "stderr",
     "output_type": "stream",
     "text": [
      "Loss: 2.2827088832855225, Acc_30: 0.2708333333333333: 100%|██████████| 10/10 [00:00<00:00, 69.33it/s]\n"
     ]
    },
    {
     "name": "stdout",
     "output_type": "stream",
     "text": [
      "______EPOCH 9_______\n"
     ]
    },
    {
     "name": "stderr",
     "output_type": "stream",
     "text": [
      "Loss: 2.2196149826049805, Acc_30: 0.29583333333333334: 100%|██████████| 10/10 [00:00<00:00, 69.00it/s]\n"
     ]
    },
    {
     "name": "stdout",
     "output_type": "stream",
     "text": [
      "______EPOCH 10_______\n"
     ]
    },
    {
     "name": "stderr",
     "output_type": "stream",
     "text": [
      "Loss: 2.158358097076416, Acc_30: 0.31666666666666665: 100%|██████████| 10/10 [00:00<00:00, 68.24it/s]\n"
     ]
    },
    {
     "name": "stdout",
     "output_type": "stream",
     "text": [
      "Final Test Loss: 2.055081069469452, Final Test Acc: 0.3875\n",
      "0.25\n",
      "0.75\n",
      "0.5\n",
      "0.375\n",
      "0.25\n",
      "0.375\n",
      "0.375\n",
      "0.25\n",
      "0.5\n",
      "0.25\n",
      "Final Train Loss: 2.055081069469452, Final Train Acc: 0.3875\n",
      "\n",
      "\n",
      "\n",
      "\n",
      "___^^^___noise_scale:0.02, defense_method:ours___^^^___\n",
      "Model initialized with random key 0.\n",
      "______EPOCH 1_______\n"
     ]
    },
    {
     "name": "stderr",
     "output_type": "stream",
     "text": [
      "Loss: 2.825350046157837, Acc_30: 0.041666666666666664: 100%|██████████| 10/10 [00:04<00:00,  2.19it/s]\n"
     ]
    },
    {
     "name": "stdout",
     "output_type": "stream",
     "text": [
      "______EPOCH 2_______\n"
     ]
    },
    {
     "name": "stderr",
     "output_type": "stream",
     "text": [
      "Loss: 2.7372801303863525, Acc_30: 0.0875: 100%|██████████| 10/10 [00:04<00:00,  2.24it/s]            \n"
     ]
    },
    {
     "name": "stdout",
     "output_type": "stream",
     "text": [
      "______EPOCH 3_______\n"
     ]
    },
    {
     "name": "stderr",
     "output_type": "stream",
     "text": [
      "Loss: 2.6522042751312256, Acc_30: 0.1375: 100%|██████████| 10/10 [00:04<00:00,  2.24it/s]            \n"
     ]
    },
    {
     "name": "stdout",
     "output_type": "stream",
     "text": [
      "______EPOCH 4_______\n"
     ]
    },
    {
     "name": "stderr",
     "output_type": "stream",
     "text": [
      "Loss: 2.5717883110046387, Acc_30: 0.15416666666666667: 100%|██████████| 10/10 [00:04<00:00,  2.34it/s]\n"
     ]
    },
    {
     "name": "stdout",
     "output_type": "stream",
     "text": [
      "______EPOCH 5_______\n"
     ]
    },
    {
     "name": "stderr",
     "output_type": "stream",
     "text": [
      "Loss: 2.494647264480591, Acc_30: 0.17916666666666667: 100%|██████████| 10/10 [00:04<00:00,  2.26it/s]\n"
     ]
    },
    {
     "name": "stdout",
     "output_type": "stream",
     "text": [
      "______EPOCH 6_______\n"
     ]
    },
    {
     "name": "stderr",
     "output_type": "stream",
     "text": [
      "Loss: 2.420292615890503, Acc_30: 0.2125: 100%|██████████| 10/10 [00:04<00:00,  2.19it/s]             \n"
     ]
    },
    {
     "name": "stdout",
     "output_type": "stream",
     "text": [
      "______EPOCH 7_______\n"
     ]
    },
    {
     "name": "stderr",
     "output_type": "stream",
     "text": [
      "Loss: 2.3504745960235596, Acc_30: 0.24166666666666667: 100%|██████████| 10/10 [00:04<00:00,  2.22it/s]\n"
     ]
    },
    {
     "name": "stdout",
     "output_type": "stream",
     "text": [
      "______EPOCH 8_______\n"
     ]
    },
    {
     "name": "stderr",
     "output_type": "stream",
     "text": [
      "Loss: 2.283710479736328, Acc_30: 0.26666666666666666: 100%|██████████| 10/10 [00:04<00:00,  2.26it/s]\n"
     ]
    },
    {
     "name": "stdout",
     "output_type": "stream",
     "text": [
      "______EPOCH 9_______\n"
     ]
    },
    {
     "name": "stderr",
     "output_type": "stream",
     "text": [
      "Loss: 2.2201905250549316, Acc_30: 0.2916666666666667: 100%|██████████| 10/10 [00:04<00:00,  2.31it/s]\n"
     ]
    },
    {
     "name": "stdout",
     "output_type": "stream",
     "text": [
      "______EPOCH 10_______\n"
     ]
    },
    {
     "name": "stderr",
     "output_type": "stream",
     "text": [
      "Loss: 2.1589677333831787, Acc_30: 0.31666666666666665: 100%|██████████| 10/10 [00:04<00:00,  2.38it/s]\n"
     ]
    },
    {
     "name": "stdout",
     "output_type": "stream",
     "text": [
      "Final Test Loss: 2.056022560596466, Final Test Acc: 0.375\n",
      "0.25\n",
      "0.75\n",
      "0.5\n",
      "0.375\n",
      "0.25\n",
      "0.375\n",
      "0.375\n",
      "0.25\n",
      "0.375\n",
      "0.25\n",
      "Final Train Loss: 2.056022560596466, Final Train Acc: 0.375\n",
      "\n",
      "\n",
      "\n",
      "\n",
      "___^^^___noise_scale:0.02, defense_method:default___^^^___\n",
      "Model initialized with random key 0.\n",
      "______EPOCH 1_______\n"
     ]
    },
    {
     "name": "stderr",
     "output_type": "stream",
     "text": [
      "Loss: 2.8258180618286133, Acc_30: 0.041666666666666664: 100%|██████████| 10/10 [00:00<00:00, 81.62it/s]\n"
     ]
    },
    {
     "name": "stdout",
     "output_type": "stream",
     "text": [
      "______EPOCH 2_______\n"
     ]
    },
    {
     "name": "stderr",
     "output_type": "stream",
     "text": [
      "Loss: 2.73688006401062, Acc_30: 0.0875: 100%|██████████| 10/10 [00:00<00:00, 69.02it/s]              \n"
     ]
    },
    {
     "name": "stdout",
     "output_type": "stream",
     "text": [
      "______EPOCH 3_______\n"
     ]
    },
    {
     "name": "stderr",
     "output_type": "stream",
     "text": [
      "Loss: 2.6518869400024414, Acc_30: 0.1375: 100%|██████████| 10/10 [00:00<00:00, 65.72it/s]            \n"
     ]
    },
    {
     "name": "stdout",
     "output_type": "stream",
     "text": [
      "______EPOCH 4_______\n"
     ]
    },
    {
     "name": "stderr",
     "output_type": "stream",
     "text": [
      "Loss: 2.5716934204101562, Acc_30: 0.15416666666666667: 100%|██████████| 10/10 [00:00<00:00, 79.25it/s]\n"
     ]
    },
    {
     "name": "stdout",
     "output_type": "stream",
     "text": [
      "______EPOCH 5_______\n"
     ]
    },
    {
     "name": "stderr",
     "output_type": "stream",
     "text": [
      "Loss: 2.4941389560699463, Acc_30: 0.17916666666666667: 100%|██████████| 10/10 [00:00<00:00, 75.15it/s]\n"
     ]
    },
    {
     "name": "stdout",
     "output_type": "stream",
     "text": [
      "______EPOCH 6_______\n"
     ]
    },
    {
     "name": "stderr",
     "output_type": "stream",
     "text": [
      "Loss: 2.4202589988708496, Acc_30: 0.2125: 100%|██████████| 10/10 [00:00<00:00, 69.04it/s]            \n"
     ]
    },
    {
     "name": "stdout",
     "output_type": "stream",
     "text": [
      "______EPOCH 7_______\n"
     ]
    },
    {
     "name": "stderr",
     "output_type": "stream",
     "text": [
      "Loss: 2.3499679565429688, Acc_30: 0.24166666666666667: 100%|██████████| 10/10 [00:00<00:00, 62.75it/s]\n"
     ]
    },
    {
     "name": "stdout",
     "output_type": "stream",
     "text": [
      "______EPOCH 8_______\n"
     ]
    },
    {
     "name": "stderr",
     "output_type": "stream",
     "text": [
      "Loss: 2.282726764678955, Acc_30: 0.26666666666666666: 100%|██████████| 10/10 [00:00<00:00, 59.82it/s]\n"
     ]
    },
    {
     "name": "stdout",
     "output_type": "stream",
     "text": [
      "______EPOCH 9_______\n"
     ]
    },
    {
     "name": "stderr",
     "output_type": "stream",
     "text": [
      "Loss: 2.219982862472534, Acc_30: 0.2916666666666667: 100%|██████████| 10/10 [00:00<00:00, 57.24it/s]\n"
     ]
    },
    {
     "name": "stdout",
     "output_type": "stream",
     "text": [
      "______EPOCH 10_______\n"
     ]
    },
    {
     "name": "stderr",
     "output_type": "stream",
     "text": [
      "Loss: 2.1582534313201904, Acc_30: 0.31666666666666665: 100%|██████████| 10/10 [00:00<00:00, 62.89it/s]\n"
     ]
    },
    {
     "name": "stdout",
     "output_type": "stream",
     "text": [
      "Final Test Loss: 2.055216348171234, Final Test Acc: 0.375\n",
      "0.25\n",
      "0.75\n",
      "0.5\n",
      "0.375\n",
      "0.25\n",
      "0.375\n",
      "0.375\n",
      "0.25\n",
      "0.375\n",
      "0.25\n",
      "Final Train Loss: 2.055216348171234, Final Train Acc: 0.375\n",
      "\n",
      "\n",
      "\n",
      "\n",
      "___^^^___noise_scale:0.05, defense_method:ours___^^^___\n",
      "Model initialized with random key 0.\n",
      "______EPOCH 1_______\n"
     ]
    },
    {
     "name": "stderr",
     "output_type": "stream",
     "text": [
      "Loss: 2.8256447315216064, Acc_30: 0.041666666666666664: 100%|██████████| 10/10 [00:04<00:00,  2.37it/s]\n"
     ]
    },
    {
     "name": "stdout",
     "output_type": "stream",
     "text": [
      "______EPOCH 2_______\n"
     ]
    },
    {
     "name": "stderr",
     "output_type": "stream",
     "text": [
      "Loss: 2.737259864807129, Acc_30: 0.0875: 100%|██████████| 10/10 [00:04<00:00,  2.29it/s]             \n"
     ]
    },
    {
     "name": "stdout",
     "output_type": "stream",
     "text": [
      "______EPOCH 3_______\n"
     ]
    },
    {
     "name": "stderr",
     "output_type": "stream",
     "text": [
      "Loss: 2.6525280475616455, Acc_30: 0.1375: 100%|██████████| 10/10 [00:04<00:00,  2.25it/s]            \n"
     ]
    },
    {
     "name": "stdout",
     "output_type": "stream",
     "text": [
      "______EPOCH 4_______\n"
     ]
    },
    {
     "name": "stderr",
     "output_type": "stream",
     "text": [
      "Loss: 2.5727975368499756, Acc_30: 0.15416666666666667: 100%|██████████| 10/10 [00:04<00:00,  2.27it/s]\n"
     ]
    },
    {
     "name": "stdout",
     "output_type": "stream",
     "text": [
      "______EPOCH 5_______\n"
     ]
    },
    {
     "name": "stderr",
     "output_type": "stream",
     "text": [
      "Loss: 2.4958035945892334, Acc_30: 0.17916666666666667: 100%|██████████| 10/10 [00:04<00:00,  2.19it/s]\n"
     ]
    },
    {
     "name": "stdout",
     "output_type": "stream",
     "text": [
      "______EPOCH 6_______\n"
     ]
    },
    {
     "name": "stderr",
     "output_type": "stream",
     "text": [
      "Loss: 2.4217796325683594, Acc_30: 0.2125: 100%|██████████| 10/10 [00:04<00:00,  2.38it/s]            \n"
     ]
    },
    {
     "name": "stdout",
     "output_type": "stream",
     "text": [
      "______EPOCH 7_______\n"
     ]
    },
    {
     "name": "stderr",
     "output_type": "stream",
     "text": [
      "Loss: 2.351581335067749, Acc_30: 0.24583333333333332: 100%|██████████| 10/10 [00:04<00:00,  2.27it/s]\n"
     ]
    },
    {
     "name": "stdout",
     "output_type": "stream",
     "text": [
      "______EPOCH 8_______\n"
     ]
    },
    {
     "name": "stderr",
     "output_type": "stream",
     "text": [
      "Loss: 2.284788131713867, Acc_30: 0.2708333333333333: 100%|██████████| 10/10 [00:04<00:00,  2.42it/s] \n"
     ]
    },
    {
     "name": "stdout",
     "output_type": "stream",
     "text": [
      "______EPOCH 9_______\n"
     ]
    },
    {
     "name": "stderr",
     "output_type": "stream",
     "text": [
      "Loss: 2.22196102142334, Acc_30: 0.29583333333333334: 100%|██████████| 10/10 [00:04<00:00,  2.31it/s]\n"
     ]
    },
    {
     "name": "stdout",
     "output_type": "stream",
     "text": [
      "______EPOCH 10_______\n"
     ]
    },
    {
     "name": "stderr",
     "output_type": "stream",
     "text": [
      "Loss: 2.160578489303589, Acc_30: 0.31666666666666665: 100%|██████████| 10/10 [00:03<00:00,  2.64it/s]\n"
     ]
    },
    {
     "name": "stdout",
     "output_type": "stream",
     "text": [
      "Final Test Loss: 2.057000494003296, Final Test Acc: 0.375\n",
      "0.25\n",
      "0.75\n",
      "0.5\n",
      "0.375\n",
      "0.25\n",
      "0.375\n",
      "0.375\n",
      "0.25\n",
      "0.375\n",
      "0.25\n",
      "Final Train Loss: 2.057000494003296, Final Train Acc: 0.375\n",
      "\n",
      "\n",
      "\n",
      "\n",
      "___^^^___noise_scale:0.05, defense_method:default___^^^___\n",
      "Model initialized with random key 0.\n",
      "______EPOCH 1_______\n"
     ]
    },
    {
     "name": "stderr",
     "output_type": "stream",
     "text": [
      "Loss: 2.825493097305298, Acc_30: 0.041666666666666664: 100%|██████████| 10/10 [00:00<00:00, 91.64it/s]\n"
     ]
    },
    {
     "name": "stdout",
     "output_type": "stream",
     "text": [
      "______EPOCH 2_______\n"
     ]
    },
    {
     "name": "stderr",
     "output_type": "stream",
     "text": [
      "Loss: 2.7369420528411865, Acc_30: 0.0875: 100%|██████████| 10/10 [00:00<00:00, 104.44it/s]   \n"
     ]
    },
    {
     "name": "stdout",
     "output_type": "stream",
     "text": [
      "______EPOCH 3_______\n"
     ]
    },
    {
     "name": "stderr",
     "output_type": "stream",
     "text": [
      "Loss: 2.6523265838623047, Acc_30: 0.1375: 100%|██████████| 10/10 [00:00<00:00, 89.69it/s]    \n"
     ]
    },
    {
     "name": "stdout",
     "output_type": "stream",
     "text": [
      "______EPOCH 4_______\n"
     ]
    },
    {
     "name": "stderr",
     "output_type": "stream",
     "text": [
      "Loss: 2.57248592376709, Acc_30: 0.15416666666666667: 100%|██████████| 10/10 [00:00<00:00, 93.95it/s]\n"
     ]
    },
    {
     "name": "stdout",
     "output_type": "stream",
     "text": [
      "______EPOCH 5_______\n"
     ]
    },
    {
     "name": "stderr",
     "output_type": "stream",
     "text": [
      "Loss: 2.4940783977508545, Acc_30: 0.17916666666666667: 100%|██████████| 10/10 [00:00<00:00, 95.93it/s]\n"
     ]
    },
    {
     "name": "stdout",
     "output_type": "stream",
     "text": [
      "______EPOCH 6_______\n"
     ]
    },
    {
     "name": "stderr",
     "output_type": "stream",
     "text": [
      "Loss: 2.42059063911438, Acc_30: 0.2125: 100%|██████████| 10/10 [00:00<00:00, 77.28it/s]             \n"
     ]
    },
    {
     "name": "stdout",
     "output_type": "stream",
     "text": [
      "______EPOCH 7_______\n"
     ]
    },
    {
     "name": "stderr",
     "output_type": "stream",
     "text": [
      "Loss: 2.350506067276001, Acc_30: 0.24583333333333332: 100%|██████████| 10/10 [00:00<00:00, 73.08it/s]\n"
     ]
    },
    {
     "name": "stdout",
     "output_type": "stream",
     "text": [
      "______EPOCH 8_______\n"
     ]
    },
    {
     "name": "stderr",
     "output_type": "stream",
     "text": [
      "Loss: 2.283534526824951, Acc_30: 0.2708333333333333: 100%|██████████| 10/10 [00:00<00:00, 97.10it/s]\n"
     ]
    },
    {
     "name": "stdout",
     "output_type": "stream",
     "text": [
      "______EPOCH 9_______\n"
     ]
    },
    {
     "name": "stderr",
     "output_type": "stream",
     "text": [
      "Loss: 2.22025728225708, Acc_30: 0.29583333333333334: 100%|██████████| 10/10 [00:00<00:00, 111.33it/s]\n"
     ]
    },
    {
     "name": "stdout",
     "output_type": "stream",
     "text": [
      "______EPOCH 10_______\n"
     ]
    },
    {
     "name": "stderr",
     "output_type": "stream",
     "text": [
      "Loss: 2.1589853763580322, Acc_30: 0.31666666666666665: 100%|██████████| 10/10 [00:00<00:00, 89.65it/s]\n"
     ]
    },
    {
     "name": "stdout",
     "output_type": "stream",
     "text": [
      "Final Test Loss: 2.055001127719879, Final Test Acc: 0.375\n",
      "0.25\n",
      "0.75\n",
      "0.5\n",
      "0.375\n",
      "0.25\n",
      "0.375\n",
      "0.375\n",
      "0.25\n",
      "0.375\n",
      "0.25\n",
      "Final Train Loss: 2.055001127719879, Final Train Acc: 0.375\n",
      "\n",
      "\n",
      "\n",
      "\n",
      "___^^^___noise_scale:0.1, defense_method:ours___^^^___\n",
      "Model initialized with random key 0.\n",
      "______EPOCH 1_______\n"
     ]
    },
    {
     "name": "stderr",
     "output_type": "stream",
     "text": [
      "Loss: 2.8260343074798584, Acc_30: 0.041666666666666664: 100%|██████████| 10/10 [00:04<00:00,  2.34it/s]\n"
     ]
    },
    {
     "name": "stdout",
     "output_type": "stream",
     "text": [
      "______EPOCH 2_______\n"
     ]
    },
    {
     "name": "stderr",
     "output_type": "stream",
     "text": [
      "Loss: 2.737687587738037, Acc_30: 0.08333333333333333: 100%|██████████| 10/10 [00:04<00:00,  2.35it/s]\n"
     ]
    },
    {
     "name": "stdout",
     "output_type": "stream",
     "text": [
      "______EPOCH 3_______\n"
     ]
    },
    {
     "name": "stderr",
     "output_type": "stream",
     "text": [
      "Loss: 2.6535234451293945, Acc_30: 0.13333333333333333: 100%|██████████| 10/10 [00:04<00:00,  2.36it/s]\n"
     ]
    },
    {
     "name": "stdout",
     "output_type": "stream",
     "text": [
      "______EPOCH 4_______\n"
     ]
    },
    {
     "name": "stderr",
     "output_type": "stream",
     "text": [
      "Loss: 2.573908805847168, Acc_30: 0.15: 100%|██████████| 10/10 [00:04<00:00,  2.37it/s]               \n"
     ]
    },
    {
     "name": "stdout",
     "output_type": "stream",
     "text": [
      "______EPOCH 5_______\n"
     ]
    },
    {
     "name": "stderr",
     "output_type": "stream",
     "text": [
      "Loss: 2.4969143867492676, Acc_30: 0.17916666666666667: 100%|██████████| 10/10 [00:04<00:00,  2.31it/s]\n"
     ]
    },
    {
     "name": "stdout",
     "output_type": "stream",
     "text": [
      "______EPOCH 6_______\n"
     ]
    },
    {
     "name": "stderr",
     "output_type": "stream",
     "text": [
      "Loss: 2.4227399826049805, Acc_30: 0.2125: 100%|██████████| 10/10 [00:03<00:00,  3.02it/s]            \n"
     ]
    },
    {
     "name": "stdout",
     "output_type": "stream",
     "text": [
      "______EPOCH 7_______\n"
     ]
    },
    {
     "name": "stderr",
     "output_type": "stream",
     "text": [
      "Loss: 2.353120803833008, Acc_30: 0.24166666666666667: 100%|██████████| 10/10 [00:03<00:00,  2.79it/s]\n"
     ]
    },
    {
     "name": "stdout",
     "output_type": "stream",
     "text": [
      "______EPOCH 8_______\n"
     ]
    },
    {
     "name": "stderr",
     "output_type": "stream",
     "text": [
      "Loss: 2.28627347946167, Acc_30: 0.26666666666666666: 100%|██████████| 10/10 [00:03<00:00,  2.51it/s] \n"
     ]
    },
    {
     "name": "stdout",
     "output_type": "stream",
     "text": [
      "______EPOCH 9_______\n"
     ]
    },
    {
     "name": "stderr",
     "output_type": "stream",
     "text": [
      "Loss: 2.2232513427734375, Acc_30: 0.2916666666666667: 100%|██████████| 10/10 [00:04<00:00,  2.20it/s]\n"
     ]
    },
    {
     "name": "stdout",
     "output_type": "stream",
     "text": [
      "______EPOCH 10_______\n"
     ]
    },
    {
     "name": "stderr",
     "output_type": "stream",
     "text": [
      "Loss: 2.1628050804138184, Acc_30: 0.31666666666666665: 100%|██████████| 10/10 [00:04<00:00,  2.20it/s]\n"
     ]
    },
    {
     "name": "stdout",
     "output_type": "stream",
     "text": [
      "Final Test Loss: 2.0589676976203917, Final Test Acc: 0.375\n",
      "0.25\n",
      "0.75\n",
      "0.5\n",
      "0.375\n",
      "0.25\n",
      "0.375\n",
      "0.375\n",
      "0.25\n",
      "0.375\n",
      "0.25\n",
      "Final Train Loss: 2.0589676976203917, Final Train Acc: 0.375\n",
      "\n",
      "\n",
      "\n",
      "\n",
      "___^^^___noise_scale:0.1, defense_method:default___^^^___\n",
      "Model initialized with random key 0.\n",
      "______EPOCH 1_______\n"
     ]
    },
    {
     "name": "stderr",
     "output_type": "stream",
     "text": [
      "Loss: 2.8254387378692627, Acc_30: 0.041666666666666664: 100%|██████████| 10/10 [00:00<00:00, 90.44it/s]\n"
     ]
    },
    {
     "name": "stdout",
     "output_type": "stream",
     "text": [
      "______EPOCH 2_______\n"
     ]
    },
    {
     "name": "stderr",
     "output_type": "stream",
     "text": [
      "Loss: 2.736694812774658, Acc_30: 0.0875: 100%|██████████| 10/10 [00:00<00:00, 75.98it/s]            \n"
     ]
    },
    {
     "name": "stdout",
     "output_type": "stream",
     "text": [
      "______EPOCH 3_______\n"
     ]
    },
    {
     "name": "stderr",
     "output_type": "stream",
     "text": [
      "Loss: 2.6520938873291016, Acc_30: 0.1375: 100%|██████████| 10/10 [00:00<00:00, 64.64it/s]           \n"
     ]
    },
    {
     "name": "stdout",
     "output_type": "stream",
     "text": [
      "______EPOCH 4_______\n"
     ]
    },
    {
     "name": "stderr",
     "output_type": "stream",
     "text": [
      "Loss: 2.571481704711914, Acc_30: 0.15416666666666667: 100%|██████████| 10/10 [00:00<00:00, 64.22it/s]\n"
     ]
    },
    {
     "name": "stdout",
     "output_type": "stream",
     "text": [
      "______EPOCH 5_______\n"
     ]
    },
    {
     "name": "stderr",
     "output_type": "stream",
     "text": [
      "Loss: 2.4936795234680176, Acc_30: 0.17916666666666667: 100%|██████████| 10/10 [00:00<00:00, 56.76it/s]\n"
     ]
    },
    {
     "name": "stdout",
     "output_type": "stream",
     "text": [
      "______EPOCH 6_______\n"
     ]
    },
    {
     "name": "stderr",
     "output_type": "stream",
     "text": [
      "Loss: 2.419963836669922, Acc_30: 0.2125: 100%|██████████| 10/10 [00:00<00:00, 72.13it/s]             \n"
     ]
    },
    {
     "name": "stdout",
     "output_type": "stream",
     "text": [
      "______EPOCH 7_______\n"
     ]
    },
    {
     "name": "stderr",
     "output_type": "stream",
     "text": [
      "Loss: 2.3494577407836914, Acc_30: 0.24583333333333332: 100%|██████████| 10/10 [00:00<00:00, 70.67it/s]\n"
     ]
    },
    {
     "name": "stdout",
     "output_type": "stream",
     "text": [
      "______EPOCH 8_______\n"
     ]
    },
    {
     "name": "stderr",
     "output_type": "stream",
     "text": [
      "Loss: 2.282971143722534, Acc_30: 0.2708333333333333: 100%|██████████| 10/10 [00:00<00:00, 57.56it/s] \n"
     ]
    },
    {
     "name": "stdout",
     "output_type": "stream",
     "text": [
      "______EPOCH 9_______\n"
     ]
    },
    {
     "name": "stderr",
     "output_type": "stream",
     "text": [
      "Loss: 2.2192373275756836, Acc_30: 0.29583333333333334: 100%|██████████| 10/10 [00:00<00:00, 59.91it/s]\n"
     ]
    },
    {
     "name": "stdout",
     "output_type": "stream",
     "text": [
      "______EPOCH 10_______\n"
     ]
    },
    {
     "name": "stderr",
     "output_type": "stream",
     "text": [
      "Loss: 2.158216714859009, Acc_30: 0.31666666666666665: 100%|██████████| 10/10 [00:00<00:00, 58.71it/s]\n"
     ]
    },
    {
     "name": "stdout",
     "output_type": "stream",
     "text": [
      "Final Test Loss: 2.0550283193588257, Final Test Acc: 0.375\n",
      "0.25\n",
      "0.75\n",
      "0.5\n",
      "0.375\n",
      "0.25\n",
      "0.375\n",
      "0.375\n",
      "0.25\n",
      "0.375\n",
      "0.25\n",
      "Final Train Loss: 2.0550283193588257, Final Train Acc: 0.375\n",
      "\n",
      "\n",
      "\n",
      "\n",
      "___^^^___noise_scale:0.2, defense_method:ours___^^^___\n",
      "Model initialized with random key 0.\n",
      "______EPOCH 1_______\n"
     ]
    },
    {
     "name": "stderr",
     "output_type": "stream",
     "text": [
      "Loss: 2.825944423675537, Acc_30: 0.041666666666666664: 100%|██████████| 10/10 [00:04<00:00,  2.24it/s]\n"
     ]
    },
    {
     "name": "stdout",
     "output_type": "stream",
     "text": [
      "______EPOCH 2_______\n"
     ]
    },
    {
     "name": "stderr",
     "output_type": "stream",
     "text": [
      "Loss: 2.7383711338043213, Acc_30: 0.0875: 100%|██████████| 10/10 [00:04<00:00,  2.23it/s]            \n"
     ]
    },
    {
     "name": "stdout",
     "output_type": "stream",
     "text": [
      "______EPOCH 3_______\n"
     ]
    },
    {
     "name": "stderr",
     "output_type": "stream",
     "text": [
      "Loss: 2.6550750732421875, Acc_30: 0.1375: 100%|██████████| 10/10 [00:04<00:00,  2.27it/s]            \n"
     ]
    },
    {
     "name": "stdout",
     "output_type": "stream",
     "text": [
      "______EPOCH 4_______\n"
     ]
    },
    {
     "name": "stderr",
     "output_type": "stream",
     "text": [
      "Loss: 2.5754525661468506, Acc_30: 0.15416666666666667: 100%|██████████| 10/10 [00:04<00:00,  2.38it/s]\n"
     ]
    },
    {
     "name": "stdout",
     "output_type": "stream",
     "text": [
      "______EPOCH 5_______\n"
     ]
    },
    {
     "name": "stderr",
     "output_type": "stream",
     "text": [
      "Loss: 2.499645233154297, Acc_30: 0.17916666666666667: 100%|██████████| 10/10 [00:04<00:00,  2.29it/s]\n"
     ]
    },
    {
     "name": "stdout",
     "output_type": "stream",
     "text": [
      "______EPOCH 6_______\n"
     ]
    },
    {
     "name": "stderr",
     "output_type": "stream",
     "text": [
      "Loss: 2.4257802963256836, Acc_30: 0.2125: 100%|██████████| 10/10 [00:04<00:00,  2.32it/s]            \n"
     ]
    },
    {
     "name": "stdout",
     "output_type": "stream",
     "text": [
      "______EPOCH 7_______\n"
     ]
    },
    {
     "name": "stderr",
     "output_type": "stream",
     "text": [
      "Loss: 2.356440544128418, Acc_30: 0.24166666666666667: 100%|██████████| 10/10 [00:04<00:00,  2.35it/s]\n"
     ]
    },
    {
     "name": "stdout",
     "output_type": "stream",
     "text": [
      "______EPOCH 8_______\n"
     ]
    },
    {
     "name": "stderr",
     "output_type": "stream",
     "text": [
      "Loss: 2.290358066558838, Acc_30: 0.26666666666666666: 100%|██████████| 10/10 [00:04<00:00,  2.40it/s]\n"
     ]
    },
    {
     "name": "stdout",
     "output_type": "stream",
     "text": [
      "______EPOCH 9_______\n"
     ]
    },
    {
     "name": "stderr",
     "output_type": "stream",
     "text": [
      "Loss: 2.2268877029418945, Acc_30: 0.2916666666666667: 100%|██████████| 10/10 [00:04<00:00,  2.39it/s]\n"
     ]
    },
    {
     "name": "stdout",
     "output_type": "stream",
     "text": [
      "______EPOCH 10_______\n"
     ]
    },
    {
     "name": "stderr",
     "output_type": "stream",
     "text": [
      "Loss: 2.16583514213562, Acc_30: 0.31666666666666665: 100%|██████████| 10/10 [00:04<00:00,  2.41it/s]\n"
     ]
    },
    {
     "name": "stdout",
     "output_type": "stream",
     "text": [
      "Final Test Loss: 2.0621739625930786, Final Test Acc: 0.375\n",
      "0.25\n",
      "0.75\n",
      "0.5\n",
      "0.375\n",
      "0.25\n",
      "0.375\n",
      "0.375\n",
      "0.25\n",
      "0.375\n",
      "0.25\n",
      "Final Train Loss: 2.0621739625930786, Final Train Acc: 0.375\n",
      "\n",
      "\n",
      "\n",
      "\n",
      "___^^^___noise_scale:0.2, defense_method:default___^^^___\n",
      "Model initialized with random key 0.\n",
      "______EPOCH 1_______\n"
     ]
    },
    {
     "name": "stderr",
     "output_type": "stream",
     "text": [
      "Loss: 2.825746536254883, Acc_30: 0.041666666666666664: 100%|██████████| 10/10 [00:00<00:00, 80.96it/s]\n"
     ]
    },
    {
     "name": "stdout",
     "output_type": "stream",
     "text": [
      "______EPOCH 2_______\n"
     ]
    },
    {
     "name": "stderr",
     "output_type": "stream",
     "text": [
      "Loss: 2.736757516860962, Acc_30: 0.0875: 100%|██████████| 10/10 [00:00<00:00, 73.33it/s]             \n"
     ]
    },
    {
     "name": "stdout",
     "output_type": "stream",
     "text": [
      "______EPOCH 3_______\n"
     ]
    },
    {
     "name": "stderr",
     "output_type": "stream",
     "text": [
      "Loss: 2.6517317295074463, Acc_30: 0.1375: 100%|██████████| 10/10 [00:00<00:00, 69.30it/s]            \n"
     ]
    },
    {
     "name": "stdout",
     "output_type": "stream",
     "text": [
      "______EPOCH 4_______\n"
     ]
    },
    {
     "name": "stderr",
     "output_type": "stream",
     "text": [
      "Loss: 2.571650981903076, Acc_30: 0.15416666666666667: 100%|██████████| 10/10 [00:00<00:00, 75.59it/s]\n"
     ]
    },
    {
     "name": "stdout",
     "output_type": "stream",
     "text": [
      "______EPOCH 5_______\n"
     ]
    },
    {
     "name": "stderr",
     "output_type": "stream",
     "text": [
      "Loss: 2.4941747188568115, Acc_30: 0.17916666666666667: 100%|██████████| 10/10 [00:00<00:00, 71.65it/s]\n"
     ]
    },
    {
     "name": "stdout",
     "output_type": "stream",
     "text": [
      "______EPOCH 6_______\n"
     ]
    },
    {
     "name": "stderr",
     "output_type": "stream",
     "text": [
      "Loss: 2.420384407043457, Acc_30: 0.2125: 100%|██████████| 10/10 [00:00<00:00, 68.87it/s]             \n"
     ]
    },
    {
     "name": "stdout",
     "output_type": "stream",
     "text": [
      "______EPOCH 7_______\n"
     ]
    },
    {
     "name": "stderr",
     "output_type": "stream",
     "text": [
      "Loss: 2.3496341705322266, Acc_30: 0.24166666666666667: 100%|██████████| 10/10 [00:00<00:00, 67.63it/s]\n"
     ]
    },
    {
     "name": "stdout",
     "output_type": "stream",
     "text": [
      "______EPOCH 8_______\n"
     ]
    },
    {
     "name": "stderr",
     "output_type": "stream",
     "text": [
      "Loss: 2.2835428714752197, Acc_30: 0.26666666666666666: 100%|██████████| 10/10 [00:00<00:00, 66.64it/s]\n"
     ]
    },
    {
     "name": "stdout",
     "output_type": "stream",
     "text": [
      "______EPOCH 9_______\n"
     ]
    },
    {
     "name": "stderr",
     "output_type": "stream",
     "text": [
      "Loss: 2.219900369644165, Acc_30: 0.2916666666666667: 100%|██████████| 10/10 [00:00<00:00, 71.54it/s]\n"
     ]
    },
    {
     "name": "stdout",
     "output_type": "stream",
     "text": [
      "______EPOCH 10_______\n"
     ]
    },
    {
     "name": "stderr",
     "output_type": "stream",
     "text": [
      "Loss: 2.1580982208251953, Acc_30: 0.31666666666666665: 100%|██████████| 10/10 [00:00<00:00, 123.03it/s]\n"
     ]
    },
    {
     "name": "stdout",
     "output_type": "stream",
     "text": [
      "Final Test Loss: 2.055216598510742, Final Test Acc: 0.375\n",
      "0.25\n",
      "0.75\n",
      "0.5\n",
      "0.375\n",
      "0.25\n",
      "0.375\n",
      "0.375\n",
      "0.25\n",
      "0.375\n",
      "0.25\n",
      "Final Train Loss: 2.055216598510742, Final Train Acc: 0.375\n",
      "\n",
      "\n",
      "\n",
      "\n",
      "___^^^___noise_scale:0.4, defense_method:ours___^^^___\n",
      "Model initialized with random key 0.\n",
      "______EPOCH 1_______\n"
     ]
    },
    {
     "name": "stderr",
     "output_type": "stream",
     "text": [
      "Loss: 2.8264122009277344, Acc_30: 0.041666666666666664: 100%|██████████| 10/10 [00:04<00:00,  2.39it/s]\n"
     ]
    },
    {
     "name": "stdout",
     "output_type": "stream",
     "text": [
      "______EPOCH 2_______\n"
     ]
    },
    {
     "name": "stderr",
     "output_type": "stream",
     "text": [
      "Loss: 2.7395453453063965, Acc_30: 0.0875: 100%|██████████| 10/10 [00:04<00:00,  2.17it/s]           \n"
     ]
    },
    {
     "name": "stdout",
     "output_type": "stream",
     "text": [
      "______EPOCH 3_______\n"
     ]
    },
    {
     "name": "stderr",
     "output_type": "stream",
     "text": [
      "Loss: 2.656674385070801, Acc_30: 0.1375: 100%|██████████| 10/10 [00:04<00:00,  2.18it/s]             \n"
     ]
    },
    {
     "name": "stdout",
     "output_type": "stream",
     "text": [
      "______EPOCH 4_______\n"
     ]
    },
    {
     "name": "stderr",
     "output_type": "stream",
     "text": [
      "Loss: 2.5779826641082764, Acc_30: 0.15416666666666667: 100%|██████████| 10/10 [00:04<00:00,  2.17it/s]\n"
     ]
    },
    {
     "name": "stdout",
     "output_type": "stream",
     "text": [
      "______EPOCH 5_______\n"
     ]
    },
    {
     "name": "stderr",
     "output_type": "stream",
     "text": [
      "Loss: 2.502398729324341, Acc_30: 0.17916666666666667: 100%|██████████| 10/10 [00:04<00:00,  2.16it/s]\n"
     ]
    },
    {
     "name": "stdout",
     "output_type": "stream",
     "text": [
      "______EPOCH 6_______\n"
     ]
    },
    {
     "name": "stderr",
     "output_type": "stream",
     "text": [
      "Loss: 2.429781198501587, Acc_30: 0.20833333333333334: 100%|██████████| 10/10 [00:04<00:00,  2.19it/s]\n"
     ]
    },
    {
     "name": "stdout",
     "output_type": "stream",
     "text": [
      "______EPOCH 7_______\n"
     ]
    },
    {
     "name": "stderr",
     "output_type": "stream",
     "text": [
      "Loss: 2.360400438308716, Acc_30: 0.2375: 100%|██████████| 10/10 [00:04<00:00,  2.21it/s]             \n"
     ]
    },
    {
     "name": "stdout",
     "output_type": "stream",
     "text": [
      "______EPOCH 8_______\n"
     ]
    },
    {
     "name": "stderr",
     "output_type": "stream",
     "text": [
      "Loss: 2.294804096221924, Acc_30: 0.2625: 100%|██████████| 10/10 [00:04<00:00,  2.20it/s]             \n"
     ]
    },
    {
     "name": "stdout",
     "output_type": "stream",
     "text": [
      "______EPOCH 9_______\n"
     ]
    },
    {
     "name": "stderr",
     "output_type": "stream",
     "text": [
      "Loss: 2.232058525085449, Acc_30: 0.2875: 100%|██████████| 10/10 [00:04<00:00,  2.14it/s]            \n"
     ]
    },
    {
     "name": "stdout",
     "output_type": "stream",
     "text": [
      "______EPOCH 10_______\n"
     ]
    },
    {
     "name": "stderr",
     "output_type": "stream",
     "text": [
      "Loss: 2.1722676753997803, Acc_30: 0.30833333333333335: 100%|██████████| 10/10 [00:04<00:00,  2.30it/s]\n"
     ]
    },
    {
     "name": "stdout",
     "output_type": "stream",
     "text": [
      "Final Test Loss: 2.0680489420890806, Final Test Acc: 0.375\n",
      "0.25\n",
      "0.75\n",
      "0.5\n",
      "0.375\n",
      "0.25\n",
      "0.375\n",
      "0.375\n",
      "0.25\n",
      "0.375\n",
      "0.25\n",
      "Final Train Loss: 2.0680489420890806, Final Train Acc: 0.375\n",
      "\n",
      "\n",
      "\n",
      "\n",
      "___^^^___noise_scale:0.4, defense_method:default___^^^___\n",
      "Model initialized with random key 0.\n",
      "______EPOCH 1_______\n"
     ]
    },
    {
     "name": "stderr",
     "output_type": "stream",
     "text": [
      "Loss: 2.825526714324951, Acc_30: 0.041666666666666664: 100%|██████████| 10/10 [00:00<00:00, 97.88it/s]\n"
     ]
    },
    {
     "name": "stdout",
     "output_type": "stream",
     "text": [
      "______EPOCH 2_______\n"
     ]
    },
    {
     "name": "stderr",
     "output_type": "stream",
     "text": [
      "Loss: 2.737001419067383, Acc_30: 0.0875: 100%|██████████| 10/10 [00:00<00:00, 72.13it/s]            \n"
     ]
    },
    {
     "name": "stdout",
     "output_type": "stream",
     "text": [
      "______EPOCH 3_______\n"
     ]
    },
    {
     "name": "stderr",
     "output_type": "stream",
     "text": [
      "Loss: 2.6525027751922607, Acc_30: 0.1375: 100%|██████████| 10/10 [00:00<00:00, 63.85it/s]           \n"
     ]
    },
    {
     "name": "stdout",
     "output_type": "stream",
     "text": [
      "______EPOCH 4_______\n"
     ]
    },
    {
     "name": "stderr",
     "output_type": "stream",
     "text": [
      "Loss: 2.5717461109161377, Acc_30: 0.15416666666666667: 100%|██████████| 10/10 [00:00<00:00, 59.88it/s]\n"
     ]
    },
    {
     "name": "stdout",
     "output_type": "stream",
     "text": [
      "______EPOCH 5_______\n"
     ]
    },
    {
     "name": "stderr",
     "output_type": "stream",
     "text": [
      "Loss: 2.494133472442627, Acc_30: 0.17916666666666667: 100%|██████████| 10/10 [00:00<00:00, 58.56it/s]\n"
     ]
    },
    {
     "name": "stdout",
     "output_type": "stream",
     "text": [
      "______EPOCH 6_______\n"
     ]
    },
    {
     "name": "stderr",
     "output_type": "stream",
     "text": [
      "Loss: 2.420625925064087, Acc_30: 0.2125: 100%|██████████| 10/10 [00:00<00:00, 55.17it/s]            \n"
     ]
    },
    {
     "name": "stdout",
     "output_type": "stream",
     "text": [
      "______EPOCH 7_______\n"
     ]
    },
    {
     "name": "stderr",
     "output_type": "stream",
     "text": [
      "Loss: 2.349834442138672, Acc_30: 0.24166666666666667: 100%|██████████| 10/10 [00:00<00:00, 55.21it/s]\n"
     ]
    },
    {
     "name": "stdout",
     "output_type": "stream",
     "text": [
      "______EPOCH 8_______\n"
     ]
    },
    {
     "name": "stderr",
     "output_type": "stream",
     "text": [
      "Loss: 2.2832491397857666, Acc_30: 0.26666666666666666: 100%|██████████| 10/10 [00:00<00:00, 54.91it/s]\n"
     ]
    },
    {
     "name": "stdout",
     "output_type": "stream",
     "text": [
      "______EPOCH 9_______\n"
     ]
    },
    {
     "name": "stderr",
     "output_type": "stream",
     "text": [
      "Loss: 2.2193570137023926, Acc_30: 0.2916666666666667: 100%|██████████| 10/10 [00:00<00:00, 56.46it/s]\n"
     ]
    },
    {
     "name": "stdout",
     "output_type": "stream",
     "text": [
      "______EPOCH 10_______\n"
     ]
    },
    {
     "name": "stderr",
     "output_type": "stream",
     "text": [
      "Loss: 2.1579689979553223, Acc_30: 0.31666666666666665: 100%|██████████| 10/10 [00:00<00:00, 54.40it/s]\n"
     ]
    },
    {
     "name": "stdout",
     "output_type": "stream",
     "text": [
      "Final Test Loss: 2.0549915432929993, Final Test Acc: 0.375\n",
      "0.25\n",
      "0.75\n",
      "0.5\n",
      "0.375\n",
      "0.25\n",
      "0.375\n",
      "0.375\n",
      "0.25\n",
      "0.375\n",
      "0.25\n",
      "Final Train Loss: 2.0549915432929993, Final Train Acc: 0.375\n",
      "\n",
      "\n",
      "\n",
      "\n",
      "___^^^___noise_scale:0.6, defense_method:ours___^^^___\n",
      "Model initialized with random key 0.\n",
      "______EPOCH 1_______\n"
     ]
    },
    {
     "name": "stderr",
     "output_type": "stream",
     "text": [
      "Loss: 2.8267405033111572, Acc_30: 0.041666666666666664: 100%|██████████| 10/10 [00:04<00:00,  2.20it/s]\n"
     ]
    },
    {
     "name": "stdout",
     "output_type": "stream",
     "text": [
      "______EPOCH 2_______\n"
     ]
    },
    {
     "name": "stderr",
     "output_type": "stream",
     "text": [
      "Loss: 2.741034507751465, Acc_30: 0.0875: 100%|██████████| 10/10 [00:04<00:00,  2.20it/s]             \n"
     ]
    },
    {
     "name": "stdout",
     "output_type": "stream",
     "text": [
      "______EPOCH 3_______\n"
     ]
    },
    {
     "name": "stderr",
     "output_type": "stream",
     "text": [
      "Loss: 2.6590399742126465, Acc_30: 0.1375: 100%|██████████| 10/10 [00:04<00:00,  2.29it/s]            \n"
     ]
    },
    {
     "name": "stdout",
     "output_type": "stream",
     "text": [
      "______EPOCH 4_______\n"
     ]
    },
    {
     "name": "stderr",
     "output_type": "stream",
     "text": [
      "Loss: 2.5807480812072754, Acc_30: 0.15416666666666667: 100%|██████████| 10/10 [00:04<00:00,  2.23it/s]\n"
     ]
    },
    {
     "name": "stdout",
     "output_type": "stream",
     "text": [
      "______EPOCH 5_______\n"
     ]
    },
    {
     "name": "stderr",
     "output_type": "stream",
     "text": [
      "Loss: 2.505587339401245, Acc_30: 0.17916666666666667: 100%|██████████| 10/10 [00:04<00:00,  2.28it/s]\n"
     ]
    },
    {
     "name": "stdout",
     "output_type": "stream",
     "text": [
      "______EPOCH 6_______\n"
     ]
    },
    {
     "name": "stderr",
     "output_type": "stream",
     "text": [
      "Loss: 2.4340245723724365, Acc_30: 0.20833333333333334: 100%|██████████| 10/10 [00:04<00:00,  2.30it/s]\n"
     ]
    },
    {
     "name": "stdout",
     "output_type": "stream",
     "text": [
      "______EPOCH 7_______\n"
     ]
    },
    {
     "name": "stderr",
     "output_type": "stream",
     "text": [
      "Loss: 2.36551833152771, Acc_30: 0.2375: 100%|██████████| 10/10 [00:04<00:00,  2.32it/s]              \n"
     ]
    },
    {
     "name": "stdout",
     "output_type": "stream",
     "text": [
      "______EPOCH 8_______\n"
     ]
    },
    {
     "name": "stderr",
     "output_type": "stream",
     "text": [
      "Loss: 2.2995824813842773, Acc_30: 0.2625: 100%|██████████| 10/10 [00:04<00:00,  2.24it/s]            \n"
     ]
    },
    {
     "name": "stdout",
     "output_type": "stream",
     "text": [
      "______EPOCH 9_______\n"
     ]
    },
    {
     "name": "stderr",
     "output_type": "stream",
     "text": [
      "Loss: 2.2378506660461426, Acc_30: 0.2875: 100%|██████████| 10/10 [00:04<00:00,  2.35it/s]           \n"
     ]
    },
    {
     "name": "stdout",
     "output_type": "stream",
     "text": [
      "______EPOCH 10_______\n"
     ]
    },
    {
     "name": "stderr",
     "output_type": "stream",
     "text": [
      "Loss: 2.1778371334075928, Acc_30: 0.30833333333333335: 100%|██████████| 10/10 [00:04<00:00,  2.18it/s]\n"
     ]
    },
    {
     "name": "stdout",
     "output_type": "stream",
     "text": [
      "Final Test Loss: 2.073418974876404, Final Test Acc: 0.375\n",
      "0.25\n",
      "0.75\n",
      "0.5\n",
      "0.375\n",
      "0.25\n",
      "0.375\n",
      "0.375\n",
      "0.25\n",
      "0.375\n",
      "0.25\n",
      "Final Train Loss: 2.073418974876404, Final Train Acc: 0.375\n",
      "\n",
      "\n",
      "\n",
      "\n",
      "___^^^___noise_scale:0.6, defense_method:default___^^^___\n",
      "Model initialized with random key 0.\n",
      "______EPOCH 1_______\n"
     ]
    },
    {
     "name": "stderr",
     "output_type": "stream",
     "text": [
      "Loss: 2.8251030445098877, Acc_30: 0.041666666666666664: 100%|██████████| 10/10 [00:00<00:00, 81.60it/s]\n"
     ]
    },
    {
     "name": "stdout",
     "output_type": "stream",
     "text": [
      "______EPOCH 2_______\n"
     ]
    },
    {
     "name": "stderr",
     "output_type": "stream",
     "text": [
      "Loss: 2.736584186553955, Acc_30: 0.0875: 100%|██████████| 10/10 [00:00<00:00, 66.28it/s]             \n"
     ]
    },
    {
     "name": "stdout",
     "output_type": "stream",
     "text": [
      "______EPOCH 3_______\n"
     ]
    },
    {
     "name": "stderr",
     "output_type": "stream",
     "text": [
      "Loss: 2.651738166809082, Acc_30: 0.1375: 100%|██████████| 10/10 [00:00<00:00, 60.55it/s]             \n"
     ]
    },
    {
     "name": "stdout",
     "output_type": "stream",
     "text": [
      "______EPOCH 4_______\n"
     ]
    },
    {
     "name": "stderr",
     "output_type": "stream",
     "text": [
      "Loss: 2.571317195892334, Acc_30: 0.15416666666666667: 100%|██████████| 10/10 [00:00<00:00, 57.42it/s]\n"
     ]
    },
    {
     "name": "stdout",
     "output_type": "stream",
     "text": [
      "______EPOCH 5_______\n"
     ]
    },
    {
     "name": "stderr",
     "output_type": "stream",
     "text": [
      "Loss: 2.493525505065918, Acc_30: 0.17916666666666667: 100%|██████████| 10/10 [00:00<00:00, 54.97it/s]\n"
     ]
    },
    {
     "name": "stdout",
     "output_type": "stream",
     "text": [
      "______EPOCH 6_______\n"
     ]
    },
    {
     "name": "stderr",
     "output_type": "stream",
     "text": [
      "Loss: 2.4195899963378906, Acc_30: 0.2125: 100%|██████████| 10/10 [00:00<00:00, 54.39it/s]            \n"
     ]
    },
    {
     "name": "stdout",
     "output_type": "stream",
     "text": [
      "______EPOCH 7_______\n"
     ]
    },
    {
     "name": "stderr",
     "output_type": "stream",
     "text": [
      "Loss: 2.349919080734253, Acc_30: 0.24166666666666667: 100%|██████████| 10/10 [00:00<00:00, 56.40it/s]\n"
     ]
    },
    {
     "name": "stdout",
     "output_type": "stream",
     "text": [
      "______EPOCH 8_______\n"
     ]
    },
    {
     "name": "stderr",
     "output_type": "stream",
     "text": [
      "Loss: 2.282923460006714, Acc_30: 0.26666666666666666: 100%|██████████| 10/10 [00:00<00:00, 54.60it/s]\n"
     ]
    },
    {
     "name": "stdout",
     "output_type": "stream",
     "text": [
      "______EPOCH 9_______\n"
     ]
    },
    {
     "name": "stderr",
     "output_type": "stream",
     "text": [
      "Loss: 2.219242811203003, Acc_30: 0.2916666666666667: 100%|██████████| 10/10 [00:00<00:00, 54.55it/s]\n"
     ]
    },
    {
     "name": "stdout",
     "output_type": "stream",
     "text": [
      "______EPOCH 10_______\n"
     ]
    },
    {
     "name": "stderr",
     "output_type": "stream",
     "text": [
      "Loss: 2.1579387187957764, Acc_30: 0.31666666666666665: 100%|██████████| 10/10 [00:00<00:00, 55.75it/s]\n"
     ]
    },
    {
     "name": "stdout",
     "output_type": "stream",
     "text": [
      "Final Test Loss: 2.0551817417144775, Final Test Acc: 0.375\n",
      "0.25\n",
      "0.75\n",
      "0.5\n",
      "0.375\n",
      "0.25\n",
      "0.375\n",
      "0.375\n",
      "0.25\n",
      "0.375\n",
      "0.25\n",
      "Final Train Loss: 2.0551817417144775, Final Train Acc: 0.375\n",
      "\n",
      "\n",
      "\n",
      "\n",
      "___^^^___noise_scale:0.8, defense_method:ours___^^^___\n",
      "Model initialized with random key 0.\n",
      "______EPOCH 1_______\n"
     ]
    },
    {
     "name": "stderr",
     "output_type": "stream",
     "text": [
      "Loss: 2.8267910480499268, Acc_30: 0.041666666666666664: 100%|██████████| 10/10 [00:04<00:00,  2.19it/s]\n"
     ]
    },
    {
     "name": "stdout",
     "output_type": "stream",
     "text": [
      "______EPOCH 2_______\n"
     ]
    },
    {
     "name": "stderr",
     "output_type": "stream",
     "text": [
      "Loss: 2.742103338241577, Acc_30: 0.08333333333333333: 100%|██████████| 10/10 [00:04<00:00,  2.30it/s]\n"
     ]
    },
    {
     "name": "stdout",
     "output_type": "stream",
     "text": [
      "______EPOCH 3_______\n"
     ]
    },
    {
     "name": "stderr",
     "output_type": "stream",
     "text": [
      "Loss: 2.217275381088257, Acc_30: 0.09583333333333334:  20%|██        | 2/10 [00:01<00:04,  1.96it/s]\n",
      "\n",
      "KeyboardInterrupt\n",
      "\n"
     ]
    }
   ],
   "source": [
    "test_loader=train_loader\n",
    "defense_method = defense_prune \n",
    "num_epoch = 10\n",
    "lr = 1e-5\n",
    "\n",
    "for noise_scale in [0.01,0.02,0.05,0.1,0.2,0.4,0.6,0.8,0.9,0.99]:\n",
    "    for idx_start in [1]:\n",
    "        for num_samples in [10]: #Num samples for random sketching\n",
    "            for defense_type in ['ours','default']:\n",
    "                idx=idx_start\n",
    "                train_indices = list(range(idx, idx + 10*batch_size))\n",
    "                train_subset = Subset(dst, train_indices)\n",
    "                train_loader = DataLoader(train_subset, batch_size=batch_size, shuffle=False)\n",
    "\n",
    "                test_loader = train_loader\n",
    "                # if noise_scale==1e-4 and defense_type=='ours':\n",
    "                #     continue\n",
    "                print(f'\\n\\n\\n\\n___^^^___noise_scale:{noise_scale}, defense_method:{defense_type}___^^^___')\n",
    "\n",
    "                # net = SimpleCNN().to(device)\n",
    "\n",
    "                net, _ = inversefed.construct_model(arch, num_classes=10, num_channels=3,seed=0)\n",
    "                net.to(device)\n",
    "                # Model, optimizer and other parameters\n",
    "                loss = []\n",
    "                acc = []\n",
    "                norms = []\n",
    "                defense = True\n",
    "                optimizer = optim.SGD(net.parameters(), lr=lr)\n",
    "                criterion = torch.nn.CrossEntropyLoss()\n",
    "                # criterion = cross_entropy_for_onehot\n",
    "\n",
    "                # Training loop\n",
    "                for _ in range(num_epoch):\n",
    "                    print(f'______EPOCH {_+1}_______')\n",
    "                    trigger=0\n",
    "                    t=tqdm(train_loader)\n",
    "                    for gt_data, gt_label in t:\n",
    "                        gt_data, gt_label = gt_data.to(device), gt_label.to(device)\n",
    "                        gt_onehot_label = label_to_onehot(gt_label, num_classes=10)\n",
    "                        gt_data.requires_grad_(True)\n",
    "                        # print(next(net.parameters())[0])\n",
    "\n",
    "                        optimizer.zero_grad()  # Zero the gradients\n",
    "                        # print(gt_data.shape)\n",
    "\n",
    "                        out = net(gt_data)\n",
    "                        # y = criterion(out, gt_onehot_label)\n",
    "                        y = criterion(out, gt_label)\n",
    "                        # assert not np.isnan(y.item())\n",
    "                        # print(y)\n",
    "                        # raise AssertionError\n",
    "                        original_dy_dx = torch.autograd.grad(y, net.parameters())\n",
    "                        l2_norms_dy_dx = None\n",
    "\n",
    "                        # for qien in original_dy_dx:\n",
    "                        #     assert not torch.isnan(qien).any()\n",
    "                        # y.backward()\n",
    "                        # original_dy_dx=[param.grad for param in net.parameters()]\n",
    "                        # print(list(x for x in original_dy_dx)[1])\n",
    "\n",
    "                        if defense:\n",
    "                            if trigger == 0 and defense_type=='ours':\n",
    "                                l2_norms_dy_dx = compute_l2_norm_of_gradients_new(net, gt_data, gt_onehot_label, criterion,num_samples=num_samples)\n",
    "                                # for qien in l2_norms_dy_dx:\n",
    "                                #     assert not torch.isnan(qien).any()\n",
    "                                trigger=-1\n",
    "                            modified_dy_dx = defense_method(original_dy_dx, l2_norms_dy_dx, noise_scale, defense_type)\n",
    "                            trigger+=1\n",
    "                        else:\n",
    "                            modified_dy_dx = original_dy_dx\n",
    "\n",
    "\n",
    "                        # Apply gradients manually if defense is enabled, else use optimizer step\n",
    "                        with torch.no_grad():\n",
    "                            for param, grad in zip(net.parameters(), modified_dy_dx):\n",
    "                                param.grad = grad  # Manually set the gradients\n",
    "                        # print(net.body[0].bias.grad)\n",
    "                        # raise AssertionError\n",
    "                        optimizer.step()  # Update the parameters using Adam optimizer\n",
    "\n",
    "                        loss.append(y.item())\n",
    "                        acc.append((torch.argmax(out, dim=1) == gt_label).float().mean().item())\n",
    "                        if defense and defense_type=='ours':\n",
    "                            norms.append([(torch.mean(torch.abs(l2_norms_dy_dx[i] / original_dy_dx[i])) ** 0.5).item() for i in range(len(original_dy_dx))])\n",
    "                        t.set_description(f\"Loss: {loss[-1]}, Acc_30: {sum(acc[-30:])/30}\")\n",
    "\n",
    "                # net.eval()  # Set the model to evaluation mode\n",
    "                epoch_test_loss = 0\n",
    "                epoch_test_acc = 0\n",
    "                with torch.no_grad():\n",
    "                    for test_data, test_label in test_loader:\n",
    "                        test_data, test_label = test_data.to(device), test_label.to(device)\n",
    "                        test_out = net(test_data)\n",
    "                        test_y = criterion(test_out, test_label)\n",
    "                        epoch_test_loss += test_y.item()\n",
    "                        epoch_test_acc += (torch.argmax(test_out, dim=1) == test_label).float().mean().item()\n",
    "\n",
    "                final_test_loss=epoch_test_loss / len(test_loader)\n",
    "                final_test_acc=epoch_test_acc / len(test_loader)\n",
    "                print(f\"Final Test Loss: {final_test_loss}, Final Test Acc: {final_test_acc}\")\n",
    "\n",
    "                epoch_train_loss = 0\n",
    "                epoch_train_acc = 0\n",
    "                with torch.no_grad():\n",
    "                    for test_data, test_label in train_loader:\n",
    "                        test_data, test_label = test_data.to(device), test_label.to(device)\n",
    "                        test_out = net(test_data)\n",
    "                        test_y = criterion(test_out, test_label)\n",
    "                        epoch_train_loss += test_y.item()\n",
    "                        print( (torch.argmax(test_out, dim=1) == test_label).float().mean().item())\n",
    "                        epoch_train_acc += (torch.argmax(test_out, dim=1) == test_label).float().mean().item()\n",
    "\n",
    "                final_train_loss=epoch_train_loss / len(train_loader)\n",
    "                final_train_acc=epoch_train_acc / len(train_loader)\n",
    "                print(f\"Final Train Loss: {final_train_loss}, Final Train Acc: {final_train_acc}\")\n",
    "\n",
    "                with open('data_train.txt', 'a') as file:\n",
    "                    file.write(f\"Final train loss: {final_train_loss}, Final test loss: {final_test_loss}, Final train acc: {final_train_acc}, Final test acc: {final_test_acc}, k: {noise_scale}, Defense type: {defense_type}, Num_Samples: {num_samples}, idx:{idx_start}\\n\")"
   ]
  },
  {
   "cell_type": "code",
   "execution_count": null,
   "metadata": {},
   "outputs": [],
   "source": []
  },
  {
   "cell_type": "code",
   "execution_count": null,
   "metadata": {},
   "outputs": [],
   "source": []
  },
  {
   "cell_type": "code",
   "execution_count": null,
   "metadata": {},
   "outputs": [],
   "source": []
  }
 ],
 "metadata": {
  "kernelspec": {
   "display_name": "Python 3 (ipykernel)",
   "language": "python",
   "name": "python3"
  },
  "language_info": {
   "codemirror_mode": {
    "name": "ipython",
    "version": 3
   },
   "file_extension": ".py",
   "mimetype": "text/x-python",
   "name": "python",
   "nbconvert_exporter": "python",
   "pygments_lexer": "ipython3",
   "version": "3.10.7"
  }
 },
 "nbformat": 4,
 "nbformat_minor": 4
}
